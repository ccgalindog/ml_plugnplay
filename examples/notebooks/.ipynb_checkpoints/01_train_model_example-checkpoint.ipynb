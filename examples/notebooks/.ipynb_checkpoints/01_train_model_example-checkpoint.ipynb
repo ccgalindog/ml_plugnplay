{
 "cells": [
  {
   "cell_type": "code",
   "execution_count": 1,
   "id": "b262ce9b-6b8c-4adf-88e0-94e3dec67f35",
   "metadata": {},
   "outputs": [],
   "source": [
    "project_name = 'experiment_5'"
   ]
  },
  {
   "cell_type": "code",
   "execution_count": 2,
   "id": "013e091c-384d-48e4-9600-375c7b815be9",
   "metadata": {},
   "outputs": [
    {
     "name": "stderr",
     "output_type": "stream",
     "text": [
      "2025/02/27 23:19:24 INFO mlflow.tracking.fluent: Experiment with name 'experiment_5' does not exist. Creating a new experiment.\n"
     ]
    }
   ],
   "source": [
    "import sys\n",
    "import os\n",
    "import logging\n",
    "import mlflow\n",
    "\n",
    "notebook_dir = os.path.dirname(os.path.abspath('__file__'))\n",
    "src_dir = os.path.join(notebook_dir, '../../')\n",
    "sys.path.append(src_dir)\n",
    "\n",
    "logger = logging.getLogger(__name__)\n",
    "logging.basicConfig(filename=f'../../logs/{project_name}.log',\n",
    "                    level=logging.INFO,\n",
    "                    format=\"[%(asctime)s] %(levelname)s [%(name)s.%(funcName)s:%(lineno)d] %(message)s\",\n",
    "                    datefmt=\"%d/%b/%Y %H:%M:%S\"\n",
    "                   )\n",
    "\n",
    "mlflow.set_experiment(project_name)\n",
    "mlflow.autolog()"
   ]
  },
  {
   "cell_type": "code",
   "execution_count": 3,
   "id": "1564564e-8d61-420d-b04e-d60f90913ec8",
   "metadata": {},
   "outputs": [
    {
     "name": "stderr",
     "output_type": "stream",
     "text": [
      "2025/02/27 23:19:25 INFO mlflow.tracking.fluent: Autologging successfully enabled for sklearn.\n",
      "2025/02/27 23:19:25 INFO mlflow.tracking.fluent: Autologging successfully enabled for xgboost.\n",
      "2025/02/27 23:19:25 INFO mlflow.tracking.fluent: Autologging successfully enabled for lightgbm.\n"
     ]
    }
   ],
   "source": [
    "import pandas as pd\n",
    "from sklearn.model_selection import train_test_split\n",
    "from src.metrics.metrics import compute_metrics, default_regression_metrics\n",
    "from src.preprocessing.preprocessing import Preprocessor\n",
    "from src.io.input import load_artifacts\n",
    "from xgboost import XGBRegressor\n",
    "from lightgbm import LGBMRegressor\n",
    "from sklearn.ensemble import RandomForestRegressor\n",
    "from sklearn.linear_model import Lasso, Ridge, LinearRegression\n",
    "from sklearn.preprocessing import StandardScaler\n",
    "from src.pipelines.training_pipelines import StandardTrainerPipeline\n",
    "from src.train.training import train_multiple_models\n",
    "from src.models.default import get_default_regression_models\n",
    "from src.train.cross_validation import cross_validate\n",
    "from src.metrics.metrics import summarize_cv_metrics\n",
    "from src.pipelines.hypertune_pipelines import HyperTunnerPipeline\n",
    "from src.hypertune.hypertuning import objective_score\n",
    "from hyperopt import hp\n",
    "#from src.monitor.default_drift import get_default_drift_report\n",
    "\n",
    "import warnings\n",
    "warnings.filterwarnings('ignore')"
   ]
  },
  {
   "cell_type": "code",
   "execution_count": 4,
   "id": "b0000944-740e-4c13-99de-49453da79be4",
   "metadata": {},
   "outputs": [
    {
     "name": "stdout",
     "output_type": "stream",
     "text": [
      "(800, 21)\n"
     ]
    }
   ],
   "source": [
    "df = pd.read_csv('../../data/training_data.csv')\n",
    "print(df.shape)"
   ]
  },
  {
   "cell_type": "code",
   "execution_count": 5,
   "id": "14ac4fba-9003-4d64-932d-15b2a1cebe0d",
   "metadata": {},
   "outputs": [
    {
     "data": {
      "text/html": [
       "<div>\n",
       "<style scoped>\n",
       "    .dataframe tbody tr th:only-of-type {\n",
       "        vertical-align: middle;\n",
       "    }\n",
       "\n",
       "    .dataframe tbody tr th {\n",
       "        vertical-align: top;\n",
       "    }\n",
       "\n",
       "    .dataframe thead th {\n",
       "        text-align: right;\n",
       "    }\n",
       "</style>\n",
       "<table border=\"1\" class=\"dataframe\">\n",
       "  <thead>\n",
       "    <tr style=\"text-align: right;\">\n",
       "      <th></th>\n",
       "      <th>feature_0</th>\n",
       "      <th>feature_1</th>\n",
       "      <th>feature_2</th>\n",
       "      <th>feature_3</th>\n",
       "      <th>feature_4</th>\n",
       "      <th>feature_5</th>\n",
       "      <th>feature_6</th>\n",
       "      <th>feature_7</th>\n",
       "      <th>feature_8</th>\n",
       "      <th>feature_9</th>\n",
       "      <th>...</th>\n",
       "      <th>feature_11</th>\n",
       "      <th>feature_12</th>\n",
       "      <th>feature_13</th>\n",
       "      <th>feature_14</th>\n",
       "      <th>feature_15</th>\n",
       "      <th>feature_16</th>\n",
       "      <th>feature_17</th>\n",
       "      <th>feature_18</th>\n",
       "      <th>feature_19</th>\n",
       "      <th>target</th>\n",
       "    </tr>\n",
       "  </thead>\n",
       "  <tbody>\n",
       "    <tr>\n",
       "      <th>0</th>\n",
       "      <td>432.475954</td>\n",
       "      <td>289.373016</td>\n",
       "      <td>481.315600</td>\n",
       "      <td>358.755566</td>\n",
       "      <td>802.659004</td>\n",
       "      <td>176.761177</td>\n",
       "      <td>72.648102</td>\n",
       "      <td>720.969179</td>\n",
       "      <td>36.327684</td>\n",
       "      <td>83.768878</td>\n",
       "      <td>...</td>\n",
       "      <td>4.385848</td>\n",
       "      <td>516.789458</td>\n",
       "      <td>19.624422</td>\n",
       "      <td>13.162440</td>\n",
       "      <td>42.351948</td>\n",
       "      <td>35.920392</td>\n",
       "      <td>20.755984</td>\n",
       "      <td>13.814300</td>\n",
       "      <td>384.497136</td>\n",
       "      <td>14.364922</td>\n",
       "    </tr>\n",
       "    <tr>\n",
       "      <th>1</th>\n",
       "      <td>517.596250</td>\n",
       "      <td>330.448341</td>\n",
       "      <td>585.920055</td>\n",
       "      <td>22.684031</td>\n",
       "      <td>169.813240</td>\n",
       "      <td>335.601640</td>\n",
       "      <td>284.451476</td>\n",
       "      <td>748.101047</td>\n",
       "      <td>73.701438</td>\n",
       "      <td>358.147215</td>\n",
       "      <td>...</td>\n",
       "      <td>5.563334</td>\n",
       "      <td>2.960064</td>\n",
       "      <td>20.721878</td>\n",
       "      <td>17.740184</td>\n",
       "      <td>1.726915</td>\n",
       "      <td>167.576065</td>\n",
       "      <td>75.492679</td>\n",
       "      <td>2.480979</td>\n",
       "      <td>303.710869</td>\n",
       "      <td>19.984801</td>\n",
       "    </tr>\n",
       "  </tbody>\n",
       "</table>\n",
       "<p>2 rows × 21 columns</p>\n",
       "</div>"
      ],
      "text/plain": [
       "    feature_0   feature_1   feature_2   feature_3   feature_4   feature_5  \\\n",
       "0  432.475954  289.373016  481.315600  358.755566  802.659004  176.761177   \n",
       "1  517.596250  330.448341  585.920055   22.684031  169.813240  335.601640   \n",
       "\n",
       "    feature_6   feature_7  feature_8   feature_9  ...  feature_11  feature_12  \\\n",
       "0   72.648102  720.969179  36.327684   83.768878  ...    4.385848  516.789458   \n",
       "1  284.451476  748.101047  73.701438  358.147215  ...    5.563334    2.960064   \n",
       "\n",
       "   feature_13  feature_14  feature_15  feature_16  feature_17  feature_18  \\\n",
       "0   19.624422   13.162440   42.351948   35.920392   20.755984   13.814300   \n",
       "1   20.721878   17.740184    1.726915  167.576065   75.492679    2.480979   \n",
       "\n",
       "   feature_19     target  \n",
       "0  384.497136  14.364922  \n",
       "1  303.710869  19.984801  \n",
       "\n",
       "[2 rows x 21 columns]"
      ]
     },
     "execution_count": 5,
     "metadata": {},
     "output_type": "execute_result"
    }
   ],
   "source": [
    "df.head(2)"
   ]
  },
  {
   "cell_type": "markdown",
   "id": "79854b36-27f9-413a-9385-cd7da271385e",
   "metadata": {},
   "source": [
    "### 1. Exploratory Data Analysis"
   ]
  },
  {
   "cell_type": "code",
   "execution_count": 6,
   "id": "4c2a13b7-ed58-4beb-a44d-309032670cba",
   "metadata": {},
   "outputs": [],
   "source": [
    "#report = ProfileReport(df)\n",
    "#report.to_file('report.html')"
   ]
  },
  {
   "cell_type": "code",
   "execution_count": 7,
   "id": "3eea4289-cc4e-48f2-ab11-c8dd46478e97",
   "metadata": {},
   "outputs": [
    {
     "name": "stdout",
     "output_type": "stream",
     "text": [
      "(640, 21) (160, 21)\n"
     ]
    }
   ],
   "source": [
    "df_train, df_val = train_test_split(df, test_size=0.2)\n",
    "print(df_train.shape, df_val.shape)"
   ]
  },
  {
   "cell_type": "markdown",
   "id": "33397477-52a3-40d1-99df-d260f82f73ee",
   "metadata": {},
   "source": [
    "### 2. Preprocessing"
   ]
  },
  {
   "cell_type": "code",
   "execution_count": 8,
   "id": "b2884c4c-1789-4f5c-aa75-efb6acec1ab1",
   "metadata": {},
   "outputs": [],
   "source": [
    "# Preprocessing params\n",
    "target_column = 'target'\n",
    "numerical_features = list(df_train.drop(columns=[target_column]).columns)\n",
    "categorical_features = []\n",
    "preprocessing_graph = ['individual_num', 'combinated_num']\n",
    "artifacts = {}\n",
    "# Fit preprocessors in training mode\n",
    "train_pipeline = Preprocessor(df_train,\n",
    "                              'train',\n",
    "                              numerical_features=numerical_features,\n",
    "                              categorical_features=categorical_features,\n",
    "                              target_column=target_column,\n",
    "                              graph_preprocess=preprocessing_graph,\n",
    "                              artifacts=artifacts\n",
    "                             )\n",
    "df_train_preproc = train_pipeline.preprocess()\n",
    "\n",
    "# Load generated artifacts\n",
    "artifacts = load_artifacts('../../artifacts/')\n",
    "# Apply same preprocess logic to validation set\n",
    "validation_pipeline = Preprocessor(df_val,\n",
    "                                   'val',\n",
    "                                   numerical_features=numerical_features,\n",
    "                                   categorical_features=categorical_features,\n",
    "                                   target_column=target_column,\n",
    "                                   graph_preprocess=preprocessing_graph,\n",
    "                                   artifacts=artifacts\n",
    "                                  )\n",
    "df_val_preproc = validation_pipeline.preprocess()"
   ]
  },
  {
   "cell_type": "markdown",
   "id": "849d0cf1-bfca-47b4-a289-29dd45fcb403",
   "metadata": {},
   "source": [
    "### 3. Metrics choice"
   ]
  },
  {
   "cell_type": "code",
   "execution_count": 9,
   "id": "14ba044f-5c00-4611-99ad-edfb806fd98e",
   "metadata": {},
   "outputs": [],
   "source": [
    "metrics_config = default_regression_metrics()"
   ]
  },
  {
   "cell_type": "markdown",
   "id": "00de24e3-667e-44e8-b516-a737604f38d5",
   "metadata": {},
   "source": [
    "### 4. Model training"
   ]
  },
  {
   "cell_type": "code",
   "execution_count": 10,
   "id": "03916588-8446-4160-a6ed-347de5a314aa",
   "metadata": {},
   "outputs": [
    {
     "name": "stderr",
     "output_type": "stream",
     "text": [
      "2025/02/27 23:19:50 INFO mlflow.utils.autologging_utils: Created MLflow autologging run with ID '3fe03fc1ec0a400cb39618dd20b4f213', which will track hyperparameters, performance metrics, model artifacts, and lineage information for the current xgboost workflow\n",
      "2025/02/27 23:20:54 WARNING mlflow.utils.environment: Encountered an unexpected error while inferring pip requirements (model URI: /var/folders/wh/3hncd7zs7nxdl_qb9d23vr9w0000gn/T/tmptas7jy38/model, flavor: xgboost). Fall back to return ['xgboost==2.1.3']. Set logging level to DEBUG to see the full traceback. \n",
      "2025/02/27 23:21:05 INFO mlflow.utils.autologging_utils: Created MLflow autologging run with ID '25c5d5ff2e7f4db88dcf134e1e428c82', which will track hyperparameters, performance metrics, model artifacts, and lineage information for the current lightgbm workflow\n",
      "2025/02/27 23:24:04 INFO mlflow.utils.autologging_utils: Created MLflow autologging run with ID '0d294d2e1e4b4967a857bc110f0b255c', which will track hyperparameters, performance metrics, model artifacts, and lineage information for the current sklearn workflow\n",
      "2025/02/27 23:28:50 INFO mlflow.utils.autologging_utils: Created MLflow autologging run with ID '179bcf0ddb654a559ae1a65439cd87d8', which will track hyperparameters, performance metrics, model artifacts, and lineage information for the current sklearn workflow\n",
      "2025/02/27 23:29:10 INFO mlflow.utils.autologging_utils: Created MLflow autologging run with ID '6f5655284d494eb7a9aa8542de2508b7', which will track hyperparameters, performance metrics, model artifacts, and lineage information for the current sklearn workflow\n",
      "2025/02/27 23:29:29 INFO mlflow.utils.autologging_utils: Created MLflow autologging run with ID '93f7dd574a014bc3b1ca4455ae4ca9b6', which will track hyperparameters, performance metrics, model artifacts, and lineage information for the current sklearn workflow\n"
     ]
    }
   ],
   "source": [
    "list_models = [XGBRegressor(), LGBMRegressor(verbose=-1),\n",
    "               RandomForestRegressor(), LinearRegression(),\n",
    "               Ridge(), Lasso()#, create_neural_network(df_train_preproc.shape[1]-1),\n",
    "               ]\n",
    "list_model_names = ['xgboost', 'lightgbm', 'random_forest',\n",
    "                    'linear_regression', 'ridge', 'lasso'#, 'dnn'\n",
    "                   ]\n",
    "\n",
    "metrics_df, fitted_models = train_multiple_models(df_train_preproc,\n",
    "                                                  df_val_preproc,\n",
    "                                                  list_models,\n",
    "                                                  list_model_names,\n",
    "                                                  target_column,\n",
    "                                                  metrics_config\n",
    "                                                 )"
   ]
  },
  {
   "cell_type": "code",
   "execution_count": 11,
   "id": "ebc9dee0-1d7f-4ca1-9c26-cb20c18228bd",
   "metadata": {},
   "outputs": [
    {
     "data": {
      "text/html": [
       "<div>\n",
       "<style scoped>\n",
       "    .dataframe tbody tr th:only-of-type {\n",
       "        vertical-align: middle;\n",
       "    }\n",
       "\n",
       "    .dataframe tbody tr th {\n",
       "        vertical-align: top;\n",
       "    }\n",
       "\n",
       "    .dataframe thead th {\n",
       "        text-align: right;\n",
       "    }\n",
       "</style>\n",
       "<table border=\"1\" class=\"dataframe\">\n",
       "  <thead>\n",
       "    <tr style=\"text-align: right;\">\n",
       "      <th></th>\n",
       "      <th>model</th>\n",
       "      <th>dataset</th>\n",
       "      <th>mae</th>\n",
       "      <th>mse</th>\n",
       "      <th>rmse</th>\n",
       "      <th>mape</th>\n",
       "      <th>r2</th>\n",
       "    </tr>\n",
       "  </thead>\n",
       "  <tbody>\n",
       "    <tr>\n",
       "      <th>0</th>\n",
       "      <td>xgboost</td>\n",
       "      <td>train</td>\n",
       "      <td>2.072425e-04</td>\n",
       "      <td>6.835532e-08</td>\n",
       "      <td>2.614485e-04</td>\n",
       "      <td>2.064265e-05</td>\n",
       "      <td>1.000000</td>\n",
       "    </tr>\n",
       "    <tr>\n",
       "      <th>0</th>\n",
       "      <td>xgboost</td>\n",
       "      <td>validation</td>\n",
       "      <td>1.806035e+00</td>\n",
       "      <td>5.284825e+00</td>\n",
       "      <td>2.298875e+00</td>\n",
       "      <td>1.428545e-01</td>\n",
       "      <td>0.788489</td>\n",
       "    </tr>\n",
       "    <tr>\n",
       "      <th>0</th>\n",
       "      <td>lightgbm</td>\n",
       "      <td>train</td>\n",
       "      <td>4.576032e-02</td>\n",
       "      <td>1.888961e-02</td>\n",
       "      <td>1.374395e-01</td>\n",
       "      <td>1.310353e-02</td>\n",
       "      <td>0.999273</td>\n",
       "    </tr>\n",
       "    <tr>\n",
       "      <th>0</th>\n",
       "      <td>lightgbm</td>\n",
       "      <td>validation</td>\n",
       "      <td>1.581541e+00</td>\n",
       "      <td>4.046624e+00</td>\n",
       "      <td>2.011622e+00</td>\n",
       "      <td>1.285436e-01</td>\n",
       "      <td>0.838044</td>\n",
       "    </tr>\n",
       "    <tr>\n",
       "      <th>0</th>\n",
       "      <td>random_forest</td>\n",
       "      <td>train</td>\n",
       "      <td>7.759161e-01</td>\n",
       "      <td>9.600577e-01</td>\n",
       "      <td>9.798254e-01</td>\n",
       "      <td>8.085060e-02</td>\n",
       "      <td>0.963058</td>\n",
       "    </tr>\n",
       "    <tr>\n",
       "      <th>0</th>\n",
       "      <td>random_forest</td>\n",
       "      <td>validation</td>\n",
       "      <td>1.884376e+00</td>\n",
       "      <td>5.765850e+00</td>\n",
       "      <td>2.401218e+00</td>\n",
       "      <td>1.539849e-01</td>\n",
       "      <td>0.769237</td>\n",
       "    </tr>\n",
       "    <tr>\n",
       "      <th>0</th>\n",
       "      <td>linear_regression</td>\n",
       "      <td>train</td>\n",
       "      <td>3.622442e-09</td>\n",
       "      <td>2.337020e-17</td>\n",
       "      <td>4.834273e-09</td>\n",
       "      <td>3.023829e-10</td>\n",
       "      <td>1.000000</td>\n",
       "    </tr>\n",
       "    <tr>\n",
       "      <th>0</th>\n",
       "      <td>linear_regression</td>\n",
       "      <td>validation</td>\n",
       "      <td>6.242786e+00</td>\n",
       "      <td>2.588877e+02</td>\n",
       "      <td>1.608999e+01</td>\n",
       "      <td>5.230357e-01</td>\n",
       "      <td>-9.361307</td>\n",
       "    </tr>\n",
       "    <tr>\n",
       "      <th>0</th>\n",
       "      <td>ridge</td>\n",
       "      <td>train</td>\n",
       "      <td>9.947995e-01</td>\n",
       "      <td>1.650402e+00</td>\n",
       "      <td>1.284680e+00</td>\n",
       "      <td>9.054498e-02</td>\n",
       "      <td>0.936494</td>\n",
       "    </tr>\n",
       "    <tr>\n",
       "      <th>0</th>\n",
       "      <td>ridge</td>\n",
       "      <td>validation</td>\n",
       "      <td>3.892876e+00</td>\n",
       "      <td>9.914693e+01</td>\n",
       "      <td>9.957255e+00</td>\n",
       "      <td>3.073648e-01</td>\n",
       "      <td>-2.968099</td>\n",
       "    </tr>\n",
       "    <tr>\n",
       "      <th>0</th>\n",
       "      <td>lasso</td>\n",
       "      <td>train</td>\n",
       "      <td>5.164318e-02</td>\n",
       "      <td>4.818435e-03</td>\n",
       "      <td>6.941495e-02</td>\n",
       "      <td>4.732497e-03</td>\n",
       "      <td>0.999815</td>\n",
       "    </tr>\n",
       "    <tr>\n",
       "      <th>0</th>\n",
       "      <td>lasso</td>\n",
       "      <td>validation</td>\n",
       "      <td>3.709001e+00</td>\n",
       "      <td>2.771174e+01</td>\n",
       "      <td>5.264194e+00</td>\n",
       "      <td>2.852174e-01</td>\n",
       "      <td>-0.109091</td>\n",
       "    </tr>\n",
       "  </tbody>\n",
       "</table>\n",
       "</div>"
      ],
      "text/plain": [
       "               model     dataset           mae           mse          rmse  \\\n",
       "0            xgboost       train  2.072425e-04  6.835532e-08  2.614485e-04   \n",
       "0            xgboost  validation  1.806035e+00  5.284825e+00  2.298875e+00   \n",
       "0           lightgbm       train  4.576032e-02  1.888961e-02  1.374395e-01   \n",
       "0           lightgbm  validation  1.581541e+00  4.046624e+00  2.011622e+00   \n",
       "0      random_forest       train  7.759161e-01  9.600577e-01  9.798254e-01   \n",
       "0      random_forest  validation  1.884376e+00  5.765850e+00  2.401218e+00   \n",
       "0  linear_regression       train  3.622442e-09  2.337020e-17  4.834273e-09   \n",
       "0  linear_regression  validation  6.242786e+00  2.588877e+02  1.608999e+01   \n",
       "0              ridge       train  9.947995e-01  1.650402e+00  1.284680e+00   \n",
       "0              ridge  validation  3.892876e+00  9.914693e+01  9.957255e+00   \n",
       "0              lasso       train  5.164318e-02  4.818435e-03  6.941495e-02   \n",
       "0              lasso  validation  3.709001e+00  2.771174e+01  5.264194e+00   \n",
       "\n",
       "           mape        r2  \n",
       "0  2.064265e-05  1.000000  \n",
       "0  1.428545e-01  0.788489  \n",
       "0  1.310353e-02  0.999273  \n",
       "0  1.285436e-01  0.838044  \n",
       "0  8.085060e-02  0.963058  \n",
       "0  1.539849e-01  0.769237  \n",
       "0  3.023829e-10  1.000000  \n",
       "0  5.230357e-01 -9.361307  \n",
       "0  9.054498e-02  0.936494  \n",
       "0  3.073648e-01 -2.968099  \n",
       "0  4.732497e-03  0.999815  \n",
       "0  2.852174e-01 -0.109091  "
      ]
     },
     "execution_count": 11,
     "metadata": {},
     "output_type": "execute_result"
    }
   ],
   "source": [
    "metrics_df"
   ]
  },
  {
   "cell_type": "markdown",
   "id": "3f318680-f28d-4030-a107-069ca4d07777",
   "metadata": {},
   "source": [
    "### 5. Complete training pipeline"
   ]
  },
  {
   "cell_type": "code",
   "execution_count": 12,
   "id": "d34f2c25-251f-481f-88bf-2b1c0c30078c",
   "metadata": {},
   "outputs": [
    {
     "name": "stderr",
     "output_type": "stream",
     "text": [
      "2025/02/27 23:29:51 INFO mlflow.utils.autologging_utils: Created MLflow autologging run with ID 'c4312892e9f84886aab44a3f749612c2', which will track hyperparameters, performance metrics, model artifacts, and lineage information for the current xgboost workflow\n",
      "2025/02/27 23:29:54 WARNING mlflow.utils.environment: Encountered an unexpected error while inferring pip requirements (model URI: /var/folders/wh/3hncd7zs7nxdl_qb9d23vr9w0000gn/T/tmpgdxu1h89/model, flavor: xgboost). Fall back to return ['xgboost==2.1.3']. Set logging level to DEBUG to see the full traceback. \n",
      "2025/02/27 23:29:54 INFO mlflow.utils.autologging_utils: Created MLflow autologging run with ID '86be6eecfc784117b7c770d0093477d4', which will track hyperparameters, performance metrics, model artifacts, and lineage information for the current lightgbm workflow\n",
      "2025/02/27 23:29:58 INFO mlflow.utils.autologging_utils: Created MLflow autologging run with ID 'baa192a666344becba4dbc8445583dd8', which will track hyperparameters, performance metrics, model artifacts, and lineage information for the current sklearn workflow\n",
      "2025/02/27 23:30:04 INFO mlflow.utils.autologging_utils: Created MLflow autologging run with ID 'f2e5c7974a1241ceacad1e1efd8f75f2', which will track hyperparameters, performance metrics, model artifacts, and lineage information for the current sklearn workflow\n",
      "2025/02/27 23:30:05 INFO mlflow.utils.autologging_utils: Created MLflow autologging run with ID 'ecb3b3d8fc32494db67808ffb215165b', which will track hyperparameters, performance metrics, model artifacts, and lineage information for the current sklearn workflow\n",
      "2025/02/27 23:30:07 INFO mlflow.utils.autologging_utils: Created MLflow autologging run with ID '823c7a9580484288ae5b7e18a4d6c0b6', which will track hyperparameters, performance metrics, model artifacts, and lineage information for the current sklearn workflow\n"
     ]
    }
   ],
   "source": [
    "target_column = 'target'\n",
    "numerical_features = list(df.drop(columns=[target_column]).columns)\n",
    "categorical_features = []\n",
    "preprocessing_graph = ['individual_num']#, 'combinated_num']\n",
    "artifacts = {}\n",
    "test_size = 0.2\n",
    "\n",
    "list_models, list_model_names = get_default_regression_models()\n",
    "metrics_config = default_regression_metrics()\n",
    "\n",
    "training_pipeline = StandardTrainerPipeline(df.copy(),\n",
    "                                            numerical_features,\n",
    "                                            categorical_features,\n",
    "                                            target_column,\n",
    "                                            preprocessing_graph,\n",
    "                                            artifacts.copy(),\n",
    "                                            list_models.copy(),\n",
    "                                            list_model_names,\n",
    "                                            metrics_config,\n",
    "                                            test_size\n",
    "                                           )\n",
    "training_pipeline.run()"
   ]
  },
  {
   "cell_type": "code",
   "execution_count": 13,
   "id": "51739cbf-031e-479d-80cb-a500ea141f4f",
   "metadata": {},
   "outputs": [
    {
     "data": {
      "text/html": [
       "<div>\n",
       "<style scoped>\n",
       "    .dataframe tbody tr th:only-of-type {\n",
       "        vertical-align: middle;\n",
       "    }\n",
       "\n",
       "    .dataframe tbody tr th {\n",
       "        vertical-align: top;\n",
       "    }\n",
       "\n",
       "    .dataframe thead th {\n",
       "        text-align: right;\n",
       "    }\n",
       "</style>\n",
       "<table border=\"1\" class=\"dataframe\">\n",
       "  <thead>\n",
       "    <tr style=\"text-align: right;\">\n",
       "      <th></th>\n",
       "      <th>model</th>\n",
       "      <th>dataset</th>\n",
       "      <th>mae</th>\n",
       "      <th>mse</th>\n",
       "      <th>rmse</th>\n",
       "      <th>mape</th>\n",
       "      <th>r2</th>\n",
       "    </tr>\n",
       "  </thead>\n",
       "  <tbody>\n",
       "    <tr>\n",
       "      <th>0</th>\n",
       "      <td>xgboost</td>\n",
       "      <td>train</td>\n",
       "      <td>0.000545</td>\n",
       "      <td>5.986409e-07</td>\n",
       "      <td>0.000774</td>\n",
       "      <td>0.000042</td>\n",
       "      <td>1.000000</td>\n",
       "    </tr>\n",
       "    <tr>\n",
       "      <th>0</th>\n",
       "      <td>xgboost</td>\n",
       "      <td>validation</td>\n",
       "      <td>1.912291</td>\n",
       "      <td>5.696732e+00</td>\n",
       "      <td>2.386783</td>\n",
       "      <td>0.167361</td>\n",
       "      <td>0.761718</td>\n",
       "    </tr>\n",
       "    <tr>\n",
       "      <th>0</th>\n",
       "      <td>lightgbm</td>\n",
       "      <td>train</td>\n",
       "      <td>0.119704</td>\n",
       "      <td>3.834291e-02</td>\n",
       "      <td>0.195813</td>\n",
       "      <td>0.015717</td>\n",
       "      <td>0.998545</td>\n",
       "    </tr>\n",
       "    <tr>\n",
       "      <th>0</th>\n",
       "      <td>lightgbm</td>\n",
       "      <td>validation</td>\n",
       "      <td>1.567390</td>\n",
       "      <td>3.704633e+00</td>\n",
       "      <td>1.924742</td>\n",
       "      <td>0.134581</td>\n",
       "      <td>0.845043</td>\n",
       "    </tr>\n",
       "    <tr>\n",
       "      <th>0</th>\n",
       "      <td>random_forest</td>\n",
       "      <td>train</td>\n",
       "      <td>0.843664</td>\n",
       "      <td>1.157487e+00</td>\n",
       "      <td>1.075866</td>\n",
       "      <td>0.088283</td>\n",
       "      <td>0.956084</td>\n",
       "    </tr>\n",
       "    <tr>\n",
       "      <th>0</th>\n",
       "      <td>random_forest</td>\n",
       "      <td>validation</td>\n",
       "      <td>2.022006</td>\n",
       "      <td>6.390756e+00</td>\n",
       "      <td>2.527994</td>\n",
       "      <td>0.176872</td>\n",
       "      <td>0.732689</td>\n",
       "    </tr>\n",
       "    <tr>\n",
       "      <th>0</th>\n",
       "      <td>linear_regression</td>\n",
       "      <td>train</td>\n",
       "      <td>1.266085</td>\n",
       "      <td>2.737394e+00</td>\n",
       "      <td>1.654507</td>\n",
       "      <td>0.110059</td>\n",
       "      <td>0.896141</td>\n",
       "    </tr>\n",
       "    <tr>\n",
       "      <th>0</th>\n",
       "      <td>linear_regression</td>\n",
       "      <td>validation</td>\n",
       "      <td>1.970527</td>\n",
       "      <td>7.788063e+00</td>\n",
       "      <td>2.790710</td>\n",
       "      <td>0.163299</td>\n",
       "      <td>0.674242</td>\n",
       "    </tr>\n",
       "    <tr>\n",
       "      <th>0</th>\n",
       "      <td>ridge</td>\n",
       "      <td>train</td>\n",
       "      <td>1.366923</td>\n",
       "      <td>3.074664e+00</td>\n",
       "      <td>1.753472</td>\n",
       "      <td>0.124462</td>\n",
       "      <td>0.883344</td>\n",
       "    </tr>\n",
       "    <tr>\n",
       "      <th>0</th>\n",
       "      <td>ridge</td>\n",
       "      <td>validation</td>\n",
       "      <td>1.687121</td>\n",
       "      <td>4.900097e+00</td>\n",
       "      <td>2.213616</td>\n",
       "      <td>0.144087</td>\n",
       "      <td>0.795040</td>\n",
       "    </tr>\n",
       "    <tr>\n",
       "      <th>0</th>\n",
       "      <td>lasso</td>\n",
       "      <td>train</td>\n",
       "      <td>1.561922</td>\n",
       "      <td>4.005089e+00</td>\n",
       "      <td>2.001272</td>\n",
       "      <td>0.141631</td>\n",
       "      <td>0.848043</td>\n",
       "    </tr>\n",
       "    <tr>\n",
       "      <th>0</th>\n",
       "      <td>lasso</td>\n",
       "      <td>validation</td>\n",
       "      <td>1.555678</td>\n",
       "      <td>4.020255e+00</td>\n",
       "      <td>2.005057</td>\n",
       "      <td>0.130624</td>\n",
       "      <td>0.831841</td>\n",
       "    </tr>\n",
       "  </tbody>\n",
       "</table>\n",
       "</div>"
      ],
      "text/plain": [
       "               model     dataset       mae           mse      rmse      mape  \\\n",
       "0            xgboost       train  0.000545  5.986409e-07  0.000774  0.000042   \n",
       "0            xgboost  validation  1.912291  5.696732e+00  2.386783  0.167361   \n",
       "0           lightgbm       train  0.119704  3.834291e-02  0.195813  0.015717   \n",
       "0           lightgbm  validation  1.567390  3.704633e+00  1.924742  0.134581   \n",
       "0      random_forest       train  0.843664  1.157487e+00  1.075866  0.088283   \n",
       "0      random_forest  validation  2.022006  6.390756e+00  2.527994  0.176872   \n",
       "0  linear_regression       train  1.266085  2.737394e+00  1.654507  0.110059   \n",
       "0  linear_regression  validation  1.970527  7.788063e+00  2.790710  0.163299   \n",
       "0              ridge       train  1.366923  3.074664e+00  1.753472  0.124462   \n",
       "0              ridge  validation  1.687121  4.900097e+00  2.213616  0.144087   \n",
       "0              lasso       train  1.561922  4.005089e+00  2.001272  0.141631   \n",
       "0              lasso  validation  1.555678  4.020255e+00  2.005057  0.130624   \n",
       "\n",
       "         r2  \n",
       "0  1.000000  \n",
       "0  0.761718  \n",
       "0  0.998545  \n",
       "0  0.845043  \n",
       "0  0.956084  \n",
       "0  0.732689  \n",
       "0  0.896141  \n",
       "0  0.674242  \n",
       "0  0.883344  \n",
       "0  0.795040  \n",
       "0  0.848043  \n",
       "0  0.831841  "
      ]
     },
     "execution_count": 13,
     "metadata": {},
     "output_type": "execute_result"
    }
   ],
   "source": [
    "training_pipeline.metrics_df"
   ]
  },
  {
   "cell_type": "markdown",
   "id": "45a3f28e-97ac-4070-81e3-32b21802af64",
   "metadata": {},
   "source": [
    "### 6. Cross-validation"
   ]
  },
  {
   "cell_type": "code",
   "execution_count": 14,
   "id": "1d65c7bb-2889-4b86-aab4-8c2ee3d43933",
   "metadata": {},
   "outputs": [
    {
     "name": "stderr",
     "output_type": "stream",
     "text": [
      "2025/02/27 23:30:09 INFO mlflow.utils.autologging_utils: Created MLflow autologging run with ID '96127c3b676b4529bc385a415b9243ef', which will track hyperparameters, performance metrics, model artifacts, and lineage information for the current xgboost workflow\n",
      "2025/02/27 23:30:12 WARNING mlflow.utils.environment: Encountered an unexpected error while inferring pip requirements (model URI: /var/folders/wh/3hncd7zs7nxdl_qb9d23vr9w0000gn/T/tmpkcs1i3cf/model, flavor: xgboost). Fall back to return ['xgboost==2.1.3']. Set logging level to DEBUG to see the full traceback. \n",
      "2025/02/27 23:30:12 INFO mlflow.utils.autologging_utils: Created MLflow autologging run with ID 'a1208327b3e7462686a1bf8bebe74886', which will track hyperparameters, performance metrics, model artifacts, and lineage information for the current lightgbm workflow\n",
      "2025/02/27 23:30:15 INFO mlflow.utils.autologging_utils: Created MLflow autologging run with ID '42e8d05d538047dd9cf089986e929941', which will track hyperparameters, performance metrics, model artifacts, and lineage information for the current sklearn workflow\n",
      "2025/02/27 23:30:21 INFO mlflow.utils.autologging_utils: Created MLflow autologging run with ID 'e4601260b20c4a0ca08d3787b0e754ea', which will track hyperparameters, performance metrics, model artifacts, and lineage information for the current sklearn workflow\n",
      "2025/02/27 23:30:23 INFO mlflow.utils.autologging_utils: Created MLflow autologging run with ID '080ad800243944bc8dc10c54f8f37dca', which will track hyperparameters, performance metrics, model artifacts, and lineage information for the current sklearn workflow\n",
      "2025/02/27 23:30:25 INFO mlflow.utils.autologging_utils: Created MLflow autologging run with ID 'ca3660c3d644481eb13d40ea050edcc5', which will track hyperparameters, performance metrics, model artifacts, and lineage information for the current sklearn workflow\n",
      "2025/02/27 23:30:27 INFO mlflow.utils.autologging_utils: Created MLflow autologging run with ID 'c1cf592cd6734539b5390c0eb3e69ac7', which will track hyperparameters, performance metrics, model artifacts, and lineage information for the current xgboost workflow\n",
      "2025/02/27 23:30:29 WARNING mlflow.utils.environment: Encountered an unexpected error while inferring pip requirements (model URI: /var/folders/wh/3hncd7zs7nxdl_qb9d23vr9w0000gn/T/tmpgnkcbke7/model, flavor: xgboost). Fall back to return ['xgboost==2.1.3']. Set logging level to DEBUG to see the full traceback. \n",
      "2025/02/27 23:30:29 INFO mlflow.utils.autologging_utils: Created MLflow autologging run with ID 'ac2ada632e2f4741b4f66e70aae9ee1e', which will track hyperparameters, performance metrics, model artifacts, and lineage information for the current lightgbm workflow\n",
      "2025/02/27 23:30:33 INFO mlflow.utils.autologging_utils: Created MLflow autologging run with ID 'a5a5f7eebb2b41fbb65e36a3023e9b16', which will track hyperparameters, performance metrics, model artifacts, and lineage information for the current sklearn workflow\n",
      "2025/02/27 23:30:39 INFO mlflow.utils.autologging_utils: Created MLflow autologging run with ID 'c19be53e50b84cb3815d66ab867db0a7', which will track hyperparameters, performance metrics, model artifacts, and lineage information for the current sklearn workflow\n",
      "2025/02/27 23:30:41 INFO mlflow.utils.autologging_utils: Created MLflow autologging run with ID 'eef8bcb970b24b7db4dfc5147a1455c6', which will track hyperparameters, performance metrics, model artifacts, and lineage information for the current sklearn workflow\n",
      "2025/02/27 23:30:43 INFO mlflow.utils.autologging_utils: Created MLflow autologging run with ID '1299a7e119ea45549e8b1530b9e35b0b', which will track hyperparameters, performance metrics, model artifacts, and lineage information for the current sklearn workflow\n",
      "2025/02/27 23:39:21 INFO mlflow.utils.autologging_utils: Created MLflow autologging run with ID '9caeed1f59a2494bbb39e257a674a9b6', which will track hyperparameters, performance metrics, model artifacts, and lineage information for the current xgboost workflow\n",
      "2025/02/27 23:39:25 WARNING mlflow.utils.environment: Encountered an unexpected error while inferring pip requirements (model URI: /var/folders/wh/3hncd7zs7nxdl_qb9d23vr9w0000gn/T/tmpf3jrldj7/model, flavor: xgboost). Fall back to return ['xgboost==2.1.3']. Set logging level to DEBUG to see the full traceback. \n",
      "2025/02/27 23:39:25 INFO mlflow.utils.autologging_utils: Created MLflow autologging run with ID '7ebd257c3aae48018d00bbaff0bc973d', which will track hyperparameters, performance metrics, model artifacts, and lineage information for the current lightgbm workflow\n",
      "2025/02/27 23:39:29 INFO mlflow.utils.autologging_utils: Created MLflow autologging run with ID 'c1cf5409cfbe4ac9b157bbc5290290a0', which will track hyperparameters, performance metrics, model artifacts, and lineage information for the current sklearn workflow\n",
      "2025/02/27 23:39:36 INFO mlflow.utils.autologging_utils: Created MLflow autologging run with ID '1252e2090c5842b48dd15809431859dc', which will track hyperparameters, performance metrics, model artifacts, and lineage information for the current sklearn workflow\n",
      "2025/02/27 23:39:37 INFO mlflow.utils.autologging_utils: Created MLflow autologging run with ID '9a0bcdd7d8294fc9a358929fffe86d4c', which will track hyperparameters, performance metrics, model artifacts, and lineage information for the current sklearn workflow\n",
      "2025/02/27 23:39:39 INFO mlflow.utils.autologging_utils: Created MLflow autologging run with ID '1995a91a4c6245a68b82fae7f1d42cdd', which will track hyperparameters, performance metrics, model artifacts, and lineage information for the current sklearn workflow\n",
      "2025/02/27 23:39:41 INFO mlflow.utils.autologging_utils: Created MLflow autologging run with ID '3e0fc0ce0c77477d9045eeb3dee5b86d', which will track hyperparameters, performance metrics, model artifacts, and lineage information for the current xgboost workflow\n",
      "2025/02/27 23:39:47 WARNING mlflow.utils.environment: Encountered an unexpected error while inferring pip requirements (model URI: /var/folders/wh/3hncd7zs7nxdl_qb9d23vr9w0000gn/T/tmpblfmjwjk/model, flavor: xgboost). Fall back to return ['xgboost==2.1.3']. Set logging level to DEBUG to see the full traceback. \n",
      "2025/02/27 23:39:47 INFO mlflow.utils.autologging_utils: Created MLflow autologging run with ID 'cd3ebe673c6244ce9a4a853a2daf6d13', which will track hyperparameters, performance metrics, model artifacts, and lineage information for the current lightgbm workflow\n",
      "2025/02/27 23:39:50 INFO mlflow.utils.autologging_utils: Created MLflow autologging run with ID 'b48e42d95f74442ab16b8f1a9f919d73', which will track hyperparameters, performance metrics, model artifacts, and lineage information for the current sklearn workflow\n",
      "2025/02/27 23:39:57 INFO mlflow.utils.autologging_utils: Created MLflow autologging run with ID '4cb62fa0c11144ec8dd110873c562925', which will track hyperparameters, performance metrics, model artifacts, and lineage information for the current sklearn workflow\n",
      "2025/02/27 23:39:58 INFO mlflow.utils.autologging_utils: Created MLflow autologging run with ID 'ab9264828a274c2c860a24782b8a9101', which will track hyperparameters, performance metrics, model artifacts, and lineage information for the current sklearn workflow\n",
      "2025/02/27 23:40:00 INFO mlflow.utils.autologging_utils: Created MLflow autologging run with ID '5b8a57b8eb1e4790a46862a4c30c201e', which will track hyperparameters, performance metrics, model artifacts, and lineage information for the current sklearn workflow\n",
      "2025/02/27 23:40:02 INFO mlflow.utils.autologging_utils: Created MLflow autologging run with ID 'fc934cff0a804ec3b63ac43845860b7c', which will track hyperparameters, performance metrics, model artifacts, and lineage information for the current xgboost workflow\n",
      "2025/02/27 23:40:05 WARNING mlflow.utils.environment: Encountered an unexpected error while inferring pip requirements (model URI: /var/folders/wh/3hncd7zs7nxdl_qb9d23vr9w0000gn/T/tmpw7cv13ay/model, flavor: xgboost). Fall back to return ['xgboost==2.1.3']. Set logging level to DEBUG to see the full traceback. \n",
      "2025/02/27 23:40:05 INFO mlflow.utils.autologging_utils: Created MLflow autologging run with ID '0b9dee4746744fa2a387fcd9fa8151f0', which will track hyperparameters, performance metrics, model artifacts, and lineage information for the current lightgbm workflow\n",
      "2025/02/27 23:40:09 INFO mlflow.utils.autologging_utils: Created MLflow autologging run with ID '535f48a94fd443b08116f8d7fe889b0c', which will track hyperparameters, performance metrics, model artifacts, and lineage information for the current sklearn workflow\n",
      "2025/02/27 23:40:16 INFO mlflow.utils.autologging_utils: Created MLflow autologging run with ID '0280a592fc13424d8d04289cd4fbfe10', which will track hyperparameters, performance metrics, model artifacts, and lineage information for the current sklearn workflow\n",
      "2025/02/27 23:40:18 INFO mlflow.utils.autologging_utils: Created MLflow autologging run with ID 'e7c41a0ede374f1789de00f037dfbee4', which will track hyperparameters, performance metrics, model artifacts, and lineage information for the current sklearn workflow\n",
      "2025/02/27 23:40:19 INFO mlflow.utils.autologging_utils: Created MLflow autologging run with ID 'a8fb8c877439406eb814e94464a20a4e', which will track hyperparameters, performance metrics, model artifacts, and lineage information for the current sklearn workflow\n"
     ]
    }
   ],
   "source": [
    "target_column = 'target'\n",
    "numerical_features = list(df.drop(columns=[target_column]).columns)\n",
    "categorical_features = []\n",
    "preprocessing_graph = ['individual_num']#, 'combinated_num']\n",
    "artifacts = {}\n",
    "test_size = 0.2\n",
    "num_folds = 5\n",
    "\n",
    "list_models, list_model_names = get_default_regression_models()\n",
    "metrics_config = default_regression_metrics()\n",
    "\n",
    "metrics_df, all_models = cross_validate(df.copy(),\n",
    "                                        list_models,\n",
    "                                        list_model_names,\n",
    "                                        target_column,\n",
    "                                        metrics_config,\n",
    "                                        num_folds,\n",
    "                                        artifacts,\n",
    "                                        numerical_features,\n",
    "                                        categorical_features,\n",
    "                                        preprocessing_graph,\n",
    "                                        test_size\n",
    "                                       )"
   ]
  },
  {
   "cell_type": "code",
   "execution_count": 15,
   "id": "a117f734-1698-48ce-981c-e1e6246f3f06",
   "metadata": {},
   "outputs": [
    {
     "data": {
      "text/html": [
       "<div>\n",
       "<style scoped>\n",
       "    .dataframe tbody tr th:only-of-type {\n",
       "        vertical-align: middle;\n",
       "    }\n",
       "\n",
       "    .dataframe tbody tr th {\n",
       "        vertical-align: top;\n",
       "    }\n",
       "\n",
       "    .dataframe thead tr th {\n",
       "        text-align: left;\n",
       "    }\n",
       "</style>\n",
       "<table border=\"1\" class=\"dataframe\">\n",
       "  <thead>\n",
       "    <tr>\n",
       "      <th></th>\n",
       "      <th>dataset</th>\n",
       "      <th>model</th>\n",
       "      <th>mae_cv</th>\n",
       "      <th>mse_cv</th>\n",
       "      <th>rmse_cv</th>\n",
       "      <th>mape_cv</th>\n",
       "      <th>r2_cv</th>\n",
       "    </tr>\n",
       "    <tr>\n",
       "      <th></th>\n",
       "      <th></th>\n",
       "      <th></th>\n",
       "      <th></th>\n",
       "      <th></th>\n",
       "      <th></th>\n",
       "      <th></th>\n",
       "      <th></th>\n",
       "    </tr>\n",
       "  </thead>\n",
       "  <tbody>\n",
       "    <tr>\n",
       "      <th>5</th>\n",
       "      <td>train</td>\n",
       "      <td>xgboost</td>\n",
       "      <td>0.0009 +/- 0.0005</td>\n",
       "      <td>0.0 +/- 0.0</td>\n",
       "      <td>0.0012 +/- 0.0007</td>\n",
       "      <td>0.0001 +/- 0.0</td>\n",
       "      <td>1.0 +/- 0.0</td>\n",
       "    </tr>\n",
       "    <tr>\n",
       "      <th>1</th>\n",
       "      <td>train</td>\n",
       "      <td>lightgbm</td>\n",
       "      <td>0.1173 +/- 0.0031</td>\n",
       "      <td>0.0396 +/- 0.0035</td>\n",
       "      <td>0.1989 +/- 0.0085</td>\n",
       "      <td>0.0149 +/- 0.0036</td>\n",
       "      <td>0.9985 +/- 0.0002</td>\n",
       "    </tr>\n",
       "    <tr>\n",
       "      <th>3</th>\n",
       "      <td>train</td>\n",
       "      <td>random_forest</td>\n",
       "      <td>0.8203 +/- 0.0067</td>\n",
       "      <td>1.1015 +/- 0.034</td>\n",
       "      <td>1.0494 +/- 0.0162</td>\n",
       "      <td>0.0819 +/- 0.0069</td>\n",
       "      <td>0.9579 +/- 0.0007</td>\n",
       "    </tr>\n",
       "    <tr>\n",
       "      <th>2</th>\n",
       "      <td>train</td>\n",
       "      <td>linear_regression</td>\n",
       "      <td>1.2375 +/- 0.0222</td>\n",
       "      <td>2.5967 +/- 0.0492</td>\n",
       "      <td>1.6114 +/- 0.0153</td>\n",
       "      <td>0.1054 +/- 0.005</td>\n",
       "      <td>0.9008 +/- 0.0017</td>\n",
       "    </tr>\n",
       "    <tr>\n",
       "      <th>4</th>\n",
       "      <td>train</td>\n",
       "      <td>ridge</td>\n",
       "      <td>1.3459 +/- 0.0237</td>\n",
       "      <td>2.9658 +/- 0.0565</td>\n",
       "      <td>1.7221 +/- 0.0164</td>\n",
       "      <td>0.1207 +/- 0.0068</td>\n",
       "      <td>0.8866 +/- 0.0027</td>\n",
       "    </tr>\n",
       "    <tr>\n",
       "      <th>0</th>\n",
       "      <td>train</td>\n",
       "      <td>lasso</td>\n",
       "      <td>1.5394 +/- 0.0289</td>\n",
       "      <td>3.9031 +/- 0.1081</td>\n",
       "      <td>1.9755 +/- 0.0272</td>\n",
       "      <td>0.1376 +/- 0.0057</td>\n",
       "      <td>0.8508 +/- 0.0048</td>\n",
       "    </tr>\n",
       "    <tr>\n",
       "      <th>6</th>\n",
       "      <td>validation</td>\n",
       "      <td>lasso</td>\n",
       "      <td>1.7045 +/- 0.0721</td>\n",
       "      <td>6.1551 +/- 2.5046</td>\n",
       "      <td>2.446 +/- 0.4639</td>\n",
       "      <td>0.1536 +/- 0.019</td>\n",
       "      <td>0.7481 +/- 0.1044</td>\n",
       "    </tr>\n",
       "    <tr>\n",
       "      <th>10</th>\n",
       "      <td>validation</td>\n",
       "      <td>ridge</td>\n",
       "      <td>1.7975 +/- 0.0401</td>\n",
       "      <td>6.9687 +/- 3.066</td>\n",
       "      <td>2.597 +/- 0.5294</td>\n",
       "      <td>0.1734 +/- 0.036</td>\n",
       "      <td>0.7145 +/- 0.1281</td>\n",
       "    </tr>\n",
       "    <tr>\n",
       "      <th>7</th>\n",
       "      <td>validation</td>\n",
       "      <td>lightgbm</td>\n",
       "      <td>1.747 +/- 0.0476</td>\n",
       "      <td>5.0478 +/- 0.3888</td>\n",
       "      <td>2.2454 +/- 0.0874</td>\n",
       "      <td>0.1813 +/- 0.0463</td>\n",
       "      <td>0.7924 +/- 0.0291</td>\n",
       "    </tr>\n",
       "    <tr>\n",
       "      <th>8</th>\n",
       "      <td>validation</td>\n",
       "      <td>linear_regression</td>\n",
       "      <td>2.1669 +/- 0.1488</td>\n",
       "      <td>11.5934 +/- 3.6549</td>\n",
       "      <td>3.3715 +/- 0.5321</td>\n",
       "      <td>0.2 +/- 0.0178</td>\n",
       "      <td>0.5163 +/- 0.1794</td>\n",
       "    </tr>\n",
       "    <tr>\n",
       "      <th>11</th>\n",
       "      <td>validation</td>\n",
       "      <td>xgboost</td>\n",
       "      <td>2.1009 +/- 0.0702</td>\n",
       "      <td>6.9687 +/- 0.3225</td>\n",
       "      <td>2.6393 +/- 0.0606</td>\n",
       "      <td>0.2118 +/- 0.0332</td>\n",
       "      <td>0.7135 +/- 0.035</td>\n",
       "    </tr>\n",
       "    <tr>\n",
       "      <th>9</th>\n",
       "      <td>validation</td>\n",
       "      <td>random_forest</td>\n",
       "      <td>2.1745 +/- 0.0562</td>\n",
       "      <td>7.4415 +/- 0.5739</td>\n",
       "      <td>2.7263 +/- 0.1065</td>\n",
       "      <td>0.2409 +/- 0.0664</td>\n",
       "      <td>0.6956 +/- 0.024</td>\n",
       "    </tr>\n",
       "  </tbody>\n",
       "</table>\n",
       "</div>"
      ],
      "text/plain": [
       "       dataset              model             mae_cv              mse_cv  \\\n",
       "                                                                           \n",
       "5        train            xgboost  0.0009 +/- 0.0005         0.0 +/- 0.0   \n",
       "1        train           lightgbm  0.1173 +/- 0.0031   0.0396 +/- 0.0035   \n",
       "3        train      random_forest  0.8203 +/- 0.0067    1.1015 +/- 0.034   \n",
       "2        train  linear_regression  1.2375 +/- 0.0222   2.5967 +/- 0.0492   \n",
       "4        train              ridge  1.3459 +/- 0.0237   2.9658 +/- 0.0565   \n",
       "0        train              lasso  1.5394 +/- 0.0289   3.9031 +/- 0.1081   \n",
       "6   validation              lasso  1.7045 +/- 0.0721   6.1551 +/- 2.5046   \n",
       "10  validation              ridge  1.7975 +/- 0.0401    6.9687 +/- 3.066   \n",
       "7   validation           lightgbm   1.747 +/- 0.0476   5.0478 +/- 0.3888   \n",
       "8   validation  linear_regression  2.1669 +/- 0.1488  11.5934 +/- 3.6549   \n",
       "11  validation            xgboost  2.1009 +/- 0.0702   6.9687 +/- 0.3225   \n",
       "9   validation      random_forest  2.1745 +/- 0.0562   7.4415 +/- 0.5739   \n",
       "\n",
       "              rmse_cv            mape_cv              r2_cv  \n",
       "                                                             \n",
       "5   0.0012 +/- 0.0007     0.0001 +/- 0.0        1.0 +/- 0.0  \n",
       "1   0.1989 +/- 0.0085  0.0149 +/- 0.0036  0.9985 +/- 0.0002  \n",
       "3   1.0494 +/- 0.0162  0.0819 +/- 0.0069  0.9579 +/- 0.0007  \n",
       "2   1.6114 +/- 0.0153   0.1054 +/- 0.005  0.9008 +/- 0.0017  \n",
       "4   1.7221 +/- 0.0164  0.1207 +/- 0.0068  0.8866 +/- 0.0027  \n",
       "0   1.9755 +/- 0.0272  0.1376 +/- 0.0057  0.8508 +/- 0.0048  \n",
       "6    2.446 +/- 0.4639   0.1536 +/- 0.019  0.7481 +/- 0.1044  \n",
       "10   2.597 +/- 0.5294   0.1734 +/- 0.036  0.7145 +/- 0.1281  \n",
       "7   2.2454 +/- 0.0874  0.1813 +/- 0.0463  0.7924 +/- 0.0291  \n",
       "8   3.3715 +/- 0.5321     0.2 +/- 0.0178  0.5163 +/- 0.1794  \n",
       "11  2.6393 +/- 0.0606  0.2118 +/- 0.0332   0.7135 +/- 0.035  \n",
       "9   2.7263 +/- 0.1065  0.2409 +/- 0.0664   0.6956 +/- 0.024  "
      ]
     },
     "execution_count": 15,
     "metadata": {},
     "output_type": "execute_result"
    }
   ],
   "source": [
    "summarize_cv_metrics(metrics_df, 'mape')"
   ]
  },
  {
   "cell_type": "markdown",
   "id": "c67b6825-b26a-4f9d-9bad-8ea6d37b4ba0",
   "metadata": {},
   "source": [
    "### 6. Hyperparameter tunning"
   ]
  },
  {
   "cell_type": "code",
   "execution_count": 16,
   "id": "58ab5fb0-6907-40cf-9bdb-5fdc3c51e268",
   "metadata": {},
   "outputs": [
    {
     "name": "stdout",
     "output_type": "stream",
     "text": [
      "  0%|                                      | 0/20 [00:00<?, ?trial/s, best loss=?]"
     ]
    },
    {
     "name": "stderr",
     "output_type": "stream",
     "text": [
      "2025/02/27 23:40:21 INFO mlflow.utils.autologging_utils: Created MLflow autologging run with ID '5ac83188b9b944dc97fa03e1c96dd45d', which will track hyperparameters, performance metrics, model artifacts, and lineage information for the current lightgbm workflow\n",
      "\n"
     ]
    },
    {
     "name": "stdout",
     "output_type": "stream",
     "text": [
      "{'mae': 2.7269087338056, 'mse': 11.354900249288036, 'rmse': 3.369703288019293, 'mape': 0.24368422913658994, 'r2': 0.515718159843556}\n",
      "  5%|▌           | 1/20 [00:03<01:00,  3.16s/trial, best loss: 11.354900249288036]"
     ]
    },
    {
     "name": "stderr",
     "output_type": "stream",
     "text": [
      "2025/02/27 23:40:24 INFO mlflow.utils.autologging_utils: Created MLflow autologging run with ID 'bc84aaf952c74779acf140f30ce0985f', which will track hyperparameters, performance metrics, model artifacts, and lineage information for the current lightgbm workflow\n",
      "\n"
     ]
    },
    {
     "name": "stdout",
     "output_type": "stream",
     "text": [
      "{'mae': 21.95028543820006, 'mse': 505.96963843627225, 'rmse': 22.4937688802093, 'mape': 1.5458673824791191, 'r2': -20.579397633244056}\n",
      " 10%|█▏          | 2/20 [00:06<00:56,  3.16s/trial, best loss: 11.354900249288036]"
     ]
    },
    {
     "name": "stderr",
     "output_type": "stream",
     "text": [
      "2025/02/27 23:40:27 INFO mlflow.utils.autologging_utils: Created MLflow autologging run with ID '83c9e63c79a94e6b8f648c1eb0972884', which will track hyperparameters, performance metrics, model artifacts, and lineage information for the current lightgbm workflow\n",
      "\n"
     ]
    },
    {
     "name": "stdout",
     "output_type": "stream",
     "text": [
      "{'mae': 3.2700964801708183, 'mse': 15.573575478671648, 'rmse': 3.94633696973176, 'mape': 0.29028526942310134, 'r2': 0.33579339095477556}\n",
      " 15%|█▊          | 3/20 [00:09<00:55,  3.26s/trial, best loss: 11.354900249288036]"
     ]
    },
    {
     "name": "stderr",
     "output_type": "stream",
     "text": [
      "2025/02/27 23:40:31 INFO mlflow.utils.autologging_utils: Created MLflow autologging run with ID '1df6302ea2ee4b48bb7bf21f5d284d5c', which will track hyperparameters, performance metrics, model artifacts, and lineage information for the current lightgbm workflow\n",
      "\n"
     ]
    },
    {
     "name": "stdout",
     "output_type": "stream",
     "text": [
      "{'mae': 4.056373147003034, 'mse': 23.56567864707521, 'rmse': 4.854449366001793, 'mape': 0.35285800722347427, 'r2': -0.005066532438853688}\n",
      " 20%|██▍         | 4/20 [00:12<00:50,  3.13s/trial, best loss: 11.354900249288036]"
     ]
    },
    {
     "name": "stderr",
     "output_type": "stream",
     "text": [
      "2025/02/27 23:40:34 INFO mlflow.utils.autologging_utils: Created MLflow autologging run with ID 'c8b948e905dc4e2dbd74d1d481841b5c', which will track hyperparameters, performance metrics, model artifacts, and lineage information for the current lightgbm workflow\n",
      "\n"
     ]
    },
    {
     "name": "stdout",
     "output_type": "stream",
     "text": [
      "{'mae': 18.989731174797402, 'mse': 381.85009781301335, 'rmse': 19.540985077856575, 'mape': 1.3273900695535157, 'r2': -15.285750114308499}\n",
      " 25%|███         | 5/20 [00:15<00:46,  3.08s/trial, best loss: 11.354900249288036]"
     ]
    },
    {
     "name": "stderr",
     "output_type": "stream",
     "text": [
      "2025/02/27 23:40:37 INFO mlflow.utils.autologging_utils: Created MLflow autologging run with ID '90f2f17ca55c40d7bf2a43e7b6f6ead0', which will track hyperparameters, performance metrics, model artifacts, and lineage information for the current lightgbm workflow\n",
      "\n"
     ]
    },
    {
     "name": "stdout",
     "output_type": "stream",
     "text": [
      "{'mae': 2.835031122862147, 'mse': 12.138960551814444, 'rmse': 3.4841011110205233, 'mape': 0.25251542202104027, 'r2': 0.4822783094032216}\n",
      " 30%|███▌        | 6/20 [00:18<00:43,  3.12s/trial, best loss: 11.354900249288036]"
     ]
    },
    {
     "name": "stderr",
     "output_type": "stream",
     "text": [
      "2025/02/27 23:40:40 INFO mlflow.utils.autologging_utils: Created MLflow autologging run with ID '73d5e06082634c7fb38903b4f51bd4b3', which will track hyperparameters, performance metrics, model artifacts, and lineage information for the current lightgbm workflow\n",
      "\n"
     ]
    },
    {
     "name": "stdout",
     "output_type": "stream",
     "text": [
      "{'mae': 3.1446257822175308, 'mse': 14.5632868741326, 'rmse': 3.81618747890255, 'mape': 0.27975360533369215, 'r2': 0.3788817857230109}\n",
      " 35%|████▏       | 7/20 [00:22<00:41,  3.18s/trial, best loss: 11.354900249288036]"
     ]
    },
    {
     "name": "stderr",
     "output_type": "stream",
     "text": [
      "2025/02/27 23:40:43 INFO mlflow.utils.autologging_utils: Created MLflow autologging run with ID '5692f22e326c4f06ad44d3f6a4b7a40e', which will track hyperparameters, performance metrics, model artifacts, and lineage information for the current lightgbm workflow\n",
      "\n"
     ]
    },
    {
     "name": "stdout",
     "output_type": "stream",
     "text": [
      "{'mae': 17.767060996255786, 'mse': 331.59051985734084, 'rmse': 18.209627120216954, 'mape': 1.252743932606839, 'r2': -13.142199720778143}\n",
      " 40%|████▊       | 8/20 [00:25<00:38,  3.19s/trial, best loss: 11.354900249288036]"
     ]
    },
    {
     "name": "stderr",
     "output_type": "stream",
     "text": [
      "2025/02/27 23:40:46 INFO mlflow.utils.autologging_utils: Created MLflow autologging run with ID 'e2d5dea13cbe4e56a2a65528eac0a94a', which will track hyperparameters, performance metrics, model artifacts, and lineage information for the current lightgbm workflow\n",
      "\n"
     ]
    },
    {
     "name": "stdout",
     "output_type": "stream",
     "text": [
      "{'mae': 18.237298381494334, 'mse': 350.47568970411686, 'rmse': 18.720995959192898, 'mape': 1.2820612523371628, 'r2': -13.947644471879071}\n",
      " 45%|█████▍      | 9/20 [00:28<00:35,  3.25s/trial, best loss: 11.354900249288036]"
     ]
    },
    {
     "name": "stderr",
     "output_type": "stream",
     "text": [
      "2025/02/27 23:40:50 INFO mlflow.utils.autologging_utils: Created MLflow autologging run with ID 'f89e338b0d324102b465d6827c62c5bf', which will track hyperparameters, performance metrics, model artifacts, and lineage information for the current lightgbm workflow\n",
      "\n"
     ]
    },
    {
     "name": "stdout",
     "output_type": "stream",
     "text": [
      "{'mae': 2.192704845858244, 'mse': 7.884987564000727, 'rmse': 2.808022002050683, 'mape': 0.19278542552043643, 'r2': 0.6637085132170688}\n",
      " 50%|██████      | 10/20 [00:31<00:32,  3.23s/trial, best loss: 7.884987564000727]"
     ]
    },
    {
     "name": "stderr",
     "output_type": "stream",
     "text": [
      "2025/02/27 23:40:53 INFO mlflow.utils.autologging_utils: Created MLflow autologging run with ID 'ea8518d956014303bdb79a131f59c7ff', which will track hyperparameters, performance metrics, model artifacts, and lineage information for the current lightgbm workflow\n",
      "\n"
     ]
    },
    {
     "name": "stdout",
     "output_type": "stream",
     "text": [
      "{'mae': 3.9248928122635567, 'mse': 21.991197314232473, 'rmse': 4.689477296483316, 'mape': 0.3407567163948494, 'r2': 0.062084450874175245}\n",
      " 55%|██████▌     | 11/20 [00:35<00:29,  3.33s/trial, best loss: 7.884987564000727]"
     ]
    },
    {
     "name": "stderr",
     "output_type": "stream",
     "text": [
      "2025/02/27 23:40:56 INFO mlflow.utils.autologging_utils: Created MLflow autologging run with ID '2864e5f329d04bbe8f910bc73093cbf8', which will track hyperparameters, performance metrics, model artifacts, and lineage information for the current lightgbm workflow\n",
      "\n"
     ]
    },
    {
     "name": "stdout",
     "output_type": "stream",
     "text": [
      "{'mae': 3.875845890902254, 'mse': 21.370942523421387, 'rmse': 4.622871674989626, 'mape': 0.33604704637229094, 'r2': 0.08853806339962889}\n",
      " 60%|███████▏    | 12/20 [00:38<00:26,  3.28s/trial, best loss: 7.884987564000727]"
     ]
    },
    {
     "name": "stderr",
     "output_type": "stream",
     "text": [
      "2025/02/27 23:41:00 INFO mlflow.utils.autologging_utils: Created MLflow autologging run with ID '8739bdc7c86843559ccfa30358de4179', which will track hyperparameters, performance metrics, model artifacts, and lineage information for the current lightgbm workflow\n",
      "\n"
     ]
    },
    {
     "name": "stdout",
     "output_type": "stream",
     "text": [
      "{'mae': 4.056373147003034, 'mse': 23.56567864707521, 'rmse': 4.854449366001793, 'mape': 0.35285800722347427, 'r2': -0.005066532438853688}\n",
      " 65%|███████▊    | 13/20 [00:41<00:23,  3.30s/trial, best loss: 7.884987564000727]"
     ]
    },
    {
     "name": "stderr",
     "output_type": "stream",
     "text": [
      "2025/02/27 23:41:03 INFO mlflow.utils.autologging_utils: Created MLflow autologging run with ID '044eacf2aca4472089893fc610a2bca9', which will track hyperparameters, performance metrics, model artifacts, and lineage information for the current lightgbm workflow\n",
      "\n"
     ]
    },
    {
     "name": "stdout",
     "output_type": "stream",
     "text": [
      "{'mae': 21.935064238836844, 'mse': 504.79390613728646, 'rmse': 22.467619058041876, 'mape': 1.5462387400752764, 'r2': -20.529253132739097}\n",
      " 70%|████████▍   | 14/20 [00:45<00:19,  3.33s/trial, best loss: 7.884987564000727]"
     ]
    },
    {
     "name": "stderr",
     "output_type": "stream",
     "text": [
      "2025/02/27 23:41:06 INFO mlflow.utils.autologging_utils: Created MLflow autologging run with ID '6410a571df2a49be96c90d75b208c50b', which will track hyperparameters, performance metrics, model artifacts, and lineage information for the current lightgbm workflow\n",
      "\n"
     ]
    },
    {
     "name": "stdout",
     "output_type": "stream",
     "text": [
      "{'mae': 2.503290276105858, 'mse': 9.837511807709188, 'rmse': 3.136480799831108, 'mape': 0.22356215757357667, 'r2': 0.5804341547520977}\n",
      " 75%|█████████   | 15/20 [00:48<00:16,  3.27s/trial, best loss: 7.884987564000727]"
     ]
    },
    {
     "name": "stderr",
     "output_type": "stream",
     "text": [
      "2025/02/27 23:41:10 INFO mlflow.utils.autologging_utils: Created MLflow autologging run with ID '908e79678c7249bbb53e3d5c58b09be4', which will track hyperparameters, performance metrics, model artifacts, and lineage information for the current lightgbm workflow\n",
      "\n"
     ]
    },
    {
     "name": "stdout",
     "output_type": "stream",
     "text": [
      "{'mae': 21.95169496887367, 'mse': 505.95188811728696, 'rmse': 22.493374315946618, 'mape': 1.5462828774178203, 'r2': -20.57864058941691}\n",
      " 80%|█████████▌  | 16/20 [00:51<00:12,  3.22s/trial, best loss: 7.884987564000727]"
     ]
    },
    {
     "name": "stderr",
     "output_type": "stream",
     "text": [
      "2025/02/27 23:41:13 INFO mlflow.utils.autologging_utils: Created MLflow autologging run with ID '44ef5e781a384368a827f022c9374157', which will track hyperparameters, performance metrics, model artifacts, and lineage information for the current lightgbm workflow\n",
      "\n"
     ]
    },
    {
     "name": "stdout",
     "output_type": "stream",
     "text": [
      "{'mae': 2.920680136794103, 'mse': 12.77499601286269, 'rmse': 3.574212642367923, 'mape': 0.26059007938357037, 'r2': 0.45515165776218147}\n",
      " 85%|██████████▏ | 17/20 [00:55<00:10,  3.36s/trial, best loss: 7.884987564000727]"
     ]
    },
    {
     "name": "stderr",
     "output_type": "stream",
     "text": [
      "2025/02/27 23:41:16 INFO mlflow.utils.autologging_utils: Created MLflow autologging run with ID '74334a4d192642a2a79a90c4f631feaf', which will track hyperparameters, performance metrics, model artifacts, and lineage information for the current lightgbm workflow\n",
      "\n"
     ]
    },
    {
     "name": "stdout",
     "output_type": "stream",
     "text": [
      "{'mae': 21.93641265797064, 'mse': 505.43733939348095, 'rmse': 22.481933622210544, 'mape': 1.5441839087727163, 'r2': -20.55669529731005}\n",
      " 90%|██████████▊ | 18/20 [00:58<00:06,  3.30s/trial, best loss: 7.884987564000727]"
     ]
    },
    {
     "name": "stderr",
     "output_type": "stream",
     "text": [
      "2025/02/27 23:41:19 INFO mlflow.utils.autologging_utils: Created MLflow autologging run with ID '1ddc17be0f394621bcc09b31ef4711c6', which will track hyperparameters, performance metrics, model artifacts, and lineage information for the current lightgbm workflow\n",
      "\n"
     ]
    },
    {
     "name": "stdout",
     "output_type": "stream",
     "text": [
      "{'mae': 21.95598040272435, 'mse': 506.1229422417964, 'rmse': 22.49717631708025, 'mape': 1.5465842291893868, 'r2': -20.585935977695552}\n",
      " 95%|███████████▍| 19/20 [01:01<00:03,  3.21s/trial, best loss: 7.884987564000727]"
     ]
    },
    {
     "name": "stderr",
     "output_type": "stream",
     "text": [
      "2025/02/27 23:41:22 INFO mlflow.utils.autologging_utils: Created MLflow autologging run with ID '6e3dec57f50f4e3d9de8008c93adc77c', which will track hyperparameters, performance metrics, model artifacts, and lineage information for the current lightgbm workflow\n",
      "\n"
     ]
    },
    {
     "name": "stdout",
     "output_type": "stream",
     "text": [
      "{'mae': 4.056373147003034, 'mse': 23.56567864707521, 'rmse': 4.854449366001793, 'mape': 0.35285800722347427, 'r2': -0.005066532438853688}\n",
      "100%|████████████| 20/20 [01:04<00:00,  3.22s/trial, best loss: 7.884987564000727]\n"
     ]
    }
   ],
   "source": [
    "target_column = 'target'\n",
    "numerical_features = list(df.drop(columns=[target_column]).columns)\n",
    "categorical_features = []\n",
    "preprocessing_graph = ['individual_num']#, 'combinated_num']\n",
    "artifacts = {}\n",
    "test_size = 0.2\n",
    "optimized_metric = 'mse'\n",
    "model2tune = LGBMRegressor\n",
    "model_name = 'lgbm'\n",
    "max_iterations = 20\n",
    "\n",
    "list_models, list_model_names = get_default_regression_models()\n",
    "metrics_config = default_regression_metrics()\n",
    "\n",
    "search_space = {}\n",
    "search_space['max_depth'] = hp.uniformint('max_depth', 1, 500, q=1)\n",
    "search_space['num_leaves'] = hp.uniformint('num_leaves', 30, 1000, q=1)\n",
    "search_space['boosting_type'] = hp.choice('boosting_type', ['gbdt', 'dart'])\n",
    "search_space['colsample_bytree'] = hp.uniform('colsample_bytree', 0.6, 1.0)\n",
    "search_space['learning_rate'] = 0.1\n",
    "search_space['reg_alpha'] = hp.uniform('reg_alpha', 0.0, 1000.0)\n",
    "search_space['reg_lambda'] = hp.uniform('reg_lambda', 0.0, 1000.0)\n",
    "search_space['verbose'] = -1\n",
    "\n",
    "\n",
    "\n",
    "hypertune_pipeline = HyperTunnerPipeline(df,\n",
    "                                        numerical_features,\n",
    "                                        categorical_features,\n",
    "                                        target_column,\n",
    "                                        preprocessing_graph,\n",
    "                                        artifacts,\n",
    "                                        search_space,\n",
    "                                        optimized_metric,\n",
    "                                        model2tune,\n",
    "                                        model_name,\n",
    "                                        metrics_config,\n",
    "                                        objective_score,\n",
    "                                        test_size,\n",
    "                                        max_iterations\n",
    "                                        )\n",
    "hypertune_pipeline.run()"
   ]
  },
  {
   "cell_type": "code",
   "execution_count": 17,
   "id": "0bdb01be-438c-44d2-8c5f-23cf913d3b95",
   "metadata": {},
   "outputs": [
    {
     "data": {
      "text/plain": [
       "{'boosting_type': 0,\n",
       " 'colsample_bytree': 0.6852279340179045,\n",
       " 'max_depth': 149.0,\n",
       " 'num_leaves': 525.0,\n",
       " 'reg_alpha': 63.61983523606229,\n",
       " 'reg_lambda': 343.9529944500177}"
      ]
     },
     "execution_count": 17,
     "metadata": {},
     "output_type": "execute_result"
    }
   ],
   "source": [
    "hypertune_pipeline.best_hyperparams"
   ]
  },
  {
   "cell_type": "code",
   "execution_count": 18,
   "id": "2f94da92-e13f-47a0-8177-d5d4c1e3f858",
   "metadata": {},
   "outputs": [
    {
     "data": {
      "text/plain": [
       "{'state': 2,\n",
       " 'tid': 9,\n",
       " 'spec': None,\n",
       " 'result': {'loss': 7.884987564000727, 'status': 'ok'},\n",
       " 'misc': {'tid': 9,\n",
       "  'cmd': ('domain_attachment', 'FMinIter_Domain'),\n",
       "  'workdir': None,\n",
       "  'idxs': {'boosting_type': [9],\n",
       "   'colsample_bytree': [9],\n",
       "   'max_depth': [9],\n",
       "   'num_leaves': [9],\n",
       "   'reg_alpha': [9],\n",
       "   'reg_lambda': [9]},\n",
       "  'vals': {'boosting_type': [0],\n",
       "   'colsample_bytree': [0.6852279340179045],\n",
       "   'max_depth': [149.0],\n",
       "   'num_leaves': [525.0],\n",
       "   'reg_alpha': [63.61983523606229],\n",
       "   'reg_lambda': [343.9529944500177]}},\n",
       " 'exp_key': None,\n",
       " 'owner': None,\n",
       " 'version': 0,\n",
       " 'book_time': datetime.datetime(2025, 2, 28, 4, 40, 50, 222000),\n",
       " 'refresh_time': datetime.datetime(2025, 2, 28, 4, 40, 53, 417000)}"
      ]
     },
     "execution_count": 18,
     "metadata": {},
     "output_type": "execute_result"
    }
   ],
   "source": [
    "hypertune_pipeline.trials.best_trial"
   ]
  },
  {
   "cell_type": "markdown",
   "id": "e6e6afff-164e-4e86-adae-07c38e65701f",
   "metadata": {},
   "source": [
    "### 7. Drift evaluation"
   ]
  },
  {
   "cell_type": "code",
   "execution_count": null,
   "id": "d0d6d330-e7bd-41d0-bc4b-3dc97854a9e1",
   "metadata": {},
   "outputs": [],
   "source": [
    "df = pd.read_csv('../../data/training_data.csv')\n",
    "df_test = pd.read_csv('../../data/blind_test_data.csv')\n",
    "\n",
    "drift_report = get_default_drift_report(df, df_test)\n",
    "drift_report"
   ]
  },
  {
   "cell_type": "code",
   "execution_count": null,
   "id": "76b7d41d-eab0-49ac-bfd8-e02e766398b7",
   "metadata": {},
   "outputs": [],
   "source": []
  }
 ],
 "metadata": {
  "kernelspec": {
   "display_name": "Python 3 (ipykernel)",
   "language": "python",
   "name": "python3"
  },
  "language_info": {
   "codemirror_mode": {
    "name": "ipython",
    "version": 3
   },
   "file_extension": ".py",
   "mimetype": "text/x-python",
   "name": "python",
   "nbconvert_exporter": "python",
   "pygments_lexer": "ipython3",
   "version": "3.13.2"
  }
 },
 "nbformat": 4,
 "nbformat_minor": 5
}
